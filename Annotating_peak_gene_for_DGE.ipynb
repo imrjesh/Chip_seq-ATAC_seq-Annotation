{
 "cells": [
  {
   "cell_type": "code",
   "execution_count": 2,
   "id": "15eab5e5",
   "metadata": {
    "scrolled": true
   },
   "outputs": [
    {
     "name": "stderr",
     "output_type": "stream",
     "text": [
      "Loading required package: grid\n",
      "\n",
      "========================================\n",
      "ComplexHeatmap version 2.14.0\n",
      "Bioconductor page: http://bioconductor.org/packages/ComplexHeatmap/\n",
      "Github page: https://github.com/jokergoo/ComplexHeatmap\n",
      "Documentation: http://jokergoo.github.io/ComplexHeatmap-reference\n",
      "\n",
      "If you use it in published research, please cite either one:\n",
      "- Gu, Z. Complex Heatmap Visualization. iMeta 2022.\n",
      "- Gu, Z. Complex heatmaps reveal patterns and correlations in multidimensional \n",
      "    genomic data. Bioinformatics 2016.\n",
      "\n",
      "\n",
      "The new InteractiveComplexHeatmap package can directly export static \n",
      "complex heatmaps into an interactive Shiny app with zero effort. Have a try!\n",
      "\n",
      "This message can be suppressed by:\n",
      "  suppressPackageStartupMessages(library(ComplexHeatmap))\n",
      "========================================\n",
      "\n",
      "\n",
      "\n",
      "\n",
      "Loading required package: SummarizedExperiment\n",
      "\n",
      "Loading required package: MatrixGenerics\n",
      "\n",
      "Loading required package: matrixStats\n",
      "\n",
      "\n",
      "Attaching package: ‘matrixStats’\n",
      "\n",
      "\n",
      "The following objects are masked from ‘package:Biobase’:\n",
      "\n",
      "    anyMissing, rowMedians\n",
      "\n",
      "\n",
      "The following object is masked from ‘package:dplyr’:\n",
      "\n",
      "    count\n",
      "\n",
      "\n",
      "\n",
      "Attaching package: ‘MatrixGenerics’\n",
      "\n",
      "\n",
      "The following objects are masked from ‘package:matrixStats’:\n",
      "\n",
      "    colAlls, colAnyNAs, colAnys, colAvgsPerRowSet, colCollapse,\n",
      "    colCounts, colCummaxs, colCummins, colCumprods, colCumsums,\n",
      "    colDiffs, colIQRDiffs, colIQRs, colLogSumExps, colMadDiffs,\n",
      "    colMads, colMaxs, colMeans2, colMedians, colMins, colOrderStats,\n",
      "    colProds, colQuantiles, colRanges, colRanks, colSdDiffs, colSds,\n",
      "    colSums2, colTabulates, colVarDiffs, colVars, colWeightedMads,\n",
      "    colWeightedMeans, colWeightedMedians, colWeightedSds,\n",
      "    colWeightedVars, rowAlls, rowAnyNAs, rowAnys, rowAvgsPerColSet,\n",
      "    rowCollapse, rowCounts, rowCummaxs, rowCummins, rowCumprods,\n",
      "    rowCumsums, rowDiffs, rowIQRDiffs, rowIQRs, rowLogSumExps,\n",
      "    rowMadDiffs, rowMads, rowMaxs, rowMeans2, rowMedians, rowMins,\n",
      "    rowOrderStats, rowProds, rowQuantiles, rowRanges, rowRanks,\n",
      "    rowSdDiffs, rowSds, rowSums2, rowTabulates, rowVarDiffs, rowVars,\n",
      "    rowWeightedMads, rowWeightedMeans, rowWeightedMedians,\n",
      "    rowWeightedSds, rowWeightedVars\n",
      "\n",
      "\n",
      "The following object is masked from ‘package:Biobase’:\n",
      "\n",
      "    rowMedians\n",
      "\n",
      "\n",
      "Loading required package: limma\n",
      "\n",
      "\n",
      "Attaching package: ‘limma’\n",
      "\n",
      "\n",
      "The following object is masked from ‘package:DESeq2’:\n",
      "\n",
      "    plotMA\n",
      "\n",
      "\n",
      "The following object is masked from ‘package:BiocGenerics’:\n",
      "\n",
      "    plotMA\n",
      "\n",
      "\n"
     ]
    }
   ],
   "source": [
    "library(rtracklayer)\n",
    "library(ComplexHeatmap)\n",
    "library(ChIPseeker)\n",
    "library(TxDb.Hsapiens.UCSC.hg19.knownGene)\n",
    "txdb <- TxDb.Hsapiens.UCSC.hg19.knownGene\n",
    "library(org.Hs.eg.db)\n",
    "library(clusterProfiler)\n",
    "library(DESeq2)\n",
    "library(edgeR)"
   ]
  },
  {
   "cell_type": "code",
   "execution_count": 20,
   "id": "e1062398",
   "metadata": {},
   "outputs": [],
   "source": [
    "#sample_infor = read.table(file= \"/Users/kumarr9/Downloads/ATAC_data/ATAC_final_files/df4.tsv\", header = T, sep = \"\\t\")\n",
    "atac_df = read.table(file= \"/data/SCLCgenomics/rajesh/ATAC_scripts/ATAC_analysis/ATAC_batch_1_2_3_quantified_peaks/homer_analysis/differential_peak_results/DGE_parth_gene_annotation/rank3.pdx.cluster3.DEseq2.tsv\", header = T, sep = \"\\t\", row.names = 1, check.names = F)\n",
    "#colnames(atac_df) = gsub(pattern = \".sorted.dedup.bam\", replacement = \"\", colnames(atac_df)) ####removing pattern from the colnames\n"
   ]
  },
  {
   "cell_type": "code",
   "execution_count": 21,
   "id": "f864c954",
   "metadata": {},
   "outputs": [],
   "source": [
    "####  getting gene length #################\n",
    "gene_lengths = data.frame(GeneID = rownames(atac_df),\n",
    "                          Length = width(GRanges(rownames(atac_df))))\n",
    "\n",
    "rownames(gene_lengths) = gene_lengths$GeneID"
   ]
  },
  {
   "cell_type": "code",
   "execution_count": 22,
   "id": "4a91a365",
   "metadata": {},
   "outputs": [
    {
     "name": "stdout",
     "output_type": "stream",
     "text": [
      ">> preparing features information...\t\t 2024-03-08 14:28:43 \n",
      ">> identifying nearest features...\t\t 2024-03-08 14:28:43 \n",
      ">> calculating distance from peak to TSS...\t 2024-03-08 14:28:49 \n",
      ">> assigning genomic annotation...\t\t 2024-03-08 14:28:49 \n",
      ">> adding gene annotation...\t\t\t 2024-03-08 14:28:56 \n"
     ]
    },
    {
     "name": "stderr",
     "output_type": "stream",
     "text": [
      "'select()' returned 1:many mapping between keys and columns\n",
      "\n"
     ]
    },
    {
     "name": "stdout",
     "output_type": "stream",
     "text": [
      ">> assigning chromosome lengths\t\t\t 2024-03-08 14:28:56 \n",
      ">> done...\t\t\t\t\t 2024-03-08 14:28:56 \n"
     ]
    }
   ],
   "source": [
    "peakAnno <- annotatePeak(GRanges(rownames(atac_df)), tssRegion=c(-3000, 3000),\n",
    "                         TxDb=txdb, annoDb=\"org.Hs.eg.db\")\n",
    "\n",
    "peak_df <- as.data.frame(peakAnno@anno)\n",
    "peak_df$coordinate = paste0(peak_df$seqnames, \":\", peak_df$start, \"-\", peak_df$end)\n",
    "peak_df = peak_df[!duplicated(peak_df$coordinate),]\n",
    "rownames(peak_df) = peak_df$coordinate"
   ]
  },
  {
   "cell_type": "code",
   "execution_count": 23,
   "id": "7850a605",
   "metadata": {},
   "outputs": [],
   "source": [
    "peak_df_test = peak_df\n",
    "atac_df_test <- atac_df\n",
    "atac_df_test$Gene <- peak_df_test$SYMBOL\n",
    "atac_df_test$annotation <- peak_df_test$annotation"
   ]
  },
  {
   "cell_type": "code",
   "execution_count": 24,
   "id": "c6db5c16",
   "metadata": {},
   "outputs": [
    {
     "data": {
      "text/html": [
       "<table class=\"dataframe\">\n",
       "<caption>A data.frame: 6 × 8</caption>\n",
       "<thead>\n",
       "\t<tr><th></th><th scope=col>baseMean</th><th scope=col>log2FoldChange</th><th scope=col>lfcSE</th><th scope=col>stat</th><th scope=col>pvalue</th><th scope=col>padj</th><th scope=col>Gene</th><th scope=col>annotation</th></tr>\n",
       "\t<tr><th></th><th scope=col>&lt;dbl&gt;</th><th scope=col>&lt;dbl&gt;</th><th scope=col>&lt;dbl&gt;</th><th scope=col>&lt;dbl&gt;</th><th scope=col>&lt;dbl&gt;</th><th scope=col>&lt;dbl&gt;</th><th scope=col>&lt;chr&gt;</th><th scope=col>&lt;chr&gt;</th></tr>\n",
       "</thead>\n",
       "<tbody>\n",
       "\t<tr><th scope=row>chr1:9997-10674</th><td>153.062790</td><td>-0.62270224</td><td>0.1571248</td><td>-3.9631048</td><td>7.398127e-05</td><td>0.000690813</td><td>DDX11L1</td><td>Promoter (1-2kb)</td></tr>\n",
       "\t<tr><th scope=row>chr1:11194-11315</th><td> 23.205062</td><td>-0.26906558</td><td>0.2107789</td><td>-1.2765300</td><td>2.017682e-01</td><td>0.316372018</td><td>DDX11L1</td><td>Promoter (&lt;=1kb)</td></tr>\n",
       "\t<tr><th scope=row>chr1:12764-15682</th><td> 13.552618</td><td> 0.64493331</td><td>0.1785535</td><td> 3.6119901</td><td>3.038560e-04</td><td>0.002013147</td><td>DDX11L1</td><td>Promoter (&lt;=1kb)</td></tr>\n",
       "\t<tr><th scope=row>chr1:16814-16958</th><td> 14.091000</td><td>-0.02871356</td><td>0.1480029</td><td>-0.1940068</td><td>8.461706e-01</td><td>0.896341280</td><td>WASH7P </td><td>Promoter (&lt;=1kb)</td></tr>\n",
       "\t<tr><th scope=row>chr1:17185-17380</th><td> 12.078361</td><td>-0.22724870</td><td>0.1436957</td><td>-1.5814574</td><td>1.137735e-01</td><td>0.203905728</td><td>WASH7P </td><td>Promoter (&lt;=1kb)</td></tr>\n",
       "\t<tr><th scope=row>chr1:18209-18770</th><td><span style=white-space:pre-wrap>  7.121041</span></td><td> 0.16081936</td><td>0.2296818</td><td> 0.7001834</td><td>4.838128e-01</td><td>0.606414973</td><td>WASH7P </td><td>Promoter (&lt;=1kb)</td></tr>\n",
       "</tbody>\n",
       "</table>\n"
      ],
      "text/latex": [
       "A data.frame: 6 × 8\n",
       "\\begin{tabular}{r|llllllll}\n",
       "  & baseMean & log2FoldChange & lfcSE & stat & pvalue & padj & Gene & annotation\\\\\n",
       "  & <dbl> & <dbl> & <dbl> & <dbl> & <dbl> & <dbl> & <chr> & <chr>\\\\\n",
       "\\hline\n",
       "\tchr1:9997-10674 & 153.062790 & -0.62270224 & 0.1571248 & -3.9631048 & 7.398127e-05 & 0.000690813 & DDX11L1 & Promoter (1-2kb)\\\\\n",
       "\tchr1:11194-11315 &  23.205062 & -0.26906558 & 0.2107789 & -1.2765300 & 2.017682e-01 & 0.316372018 & DDX11L1 & Promoter (<=1kb)\\\\\n",
       "\tchr1:12764-15682 &  13.552618 &  0.64493331 & 0.1785535 &  3.6119901 & 3.038560e-04 & 0.002013147 & DDX11L1 & Promoter (<=1kb)\\\\\n",
       "\tchr1:16814-16958 &  14.091000 & -0.02871356 & 0.1480029 & -0.1940068 & 8.461706e-01 & 0.896341280 & WASH7P  & Promoter (<=1kb)\\\\\n",
       "\tchr1:17185-17380 &  12.078361 & -0.22724870 & 0.1436957 & -1.5814574 & 1.137735e-01 & 0.203905728 & WASH7P  & Promoter (<=1kb)\\\\\n",
       "\tchr1:18209-18770 &   7.121041 &  0.16081936 & 0.2296818 &  0.7001834 & 4.838128e-01 & 0.606414973 & WASH7P  & Promoter (<=1kb)\\\\\n",
       "\\end{tabular}\n"
      ],
      "text/markdown": [
       "\n",
       "A data.frame: 6 × 8\n",
       "\n",
       "| <!--/--> | baseMean &lt;dbl&gt; | log2FoldChange &lt;dbl&gt; | lfcSE &lt;dbl&gt; | stat &lt;dbl&gt; | pvalue &lt;dbl&gt; | padj &lt;dbl&gt; | Gene &lt;chr&gt; | annotation &lt;chr&gt; |\n",
       "|---|---|---|---|---|---|---|---|---|\n",
       "| chr1:9997-10674 | 153.062790 | -0.62270224 | 0.1571248 | -3.9631048 | 7.398127e-05 | 0.000690813 | DDX11L1 | Promoter (1-2kb) |\n",
       "| chr1:11194-11315 |  23.205062 | -0.26906558 | 0.2107789 | -1.2765300 | 2.017682e-01 | 0.316372018 | DDX11L1 | Promoter (&lt;=1kb) |\n",
       "| chr1:12764-15682 |  13.552618 |  0.64493331 | 0.1785535 |  3.6119901 | 3.038560e-04 | 0.002013147 | DDX11L1 | Promoter (&lt;=1kb) |\n",
       "| chr1:16814-16958 |  14.091000 | -0.02871356 | 0.1480029 | -0.1940068 | 8.461706e-01 | 0.896341280 | WASH7P  | Promoter (&lt;=1kb) |\n",
       "| chr1:17185-17380 |  12.078361 | -0.22724870 | 0.1436957 | -1.5814574 | 1.137735e-01 | 0.203905728 | WASH7P  | Promoter (&lt;=1kb) |\n",
       "| chr1:18209-18770 |   7.121041 |  0.16081936 | 0.2296818 |  0.7001834 | 4.838128e-01 | 0.606414973 | WASH7P  | Promoter (&lt;=1kb) |\n",
       "\n"
      ],
      "text/plain": [
       "                 baseMean   log2FoldChange lfcSE     stat       pvalue      \n",
       "chr1:9997-10674  153.062790 -0.62270224    0.1571248 -3.9631048 7.398127e-05\n",
       "chr1:11194-11315  23.205062 -0.26906558    0.2107789 -1.2765300 2.017682e-01\n",
       "chr1:12764-15682  13.552618  0.64493331    0.1785535  3.6119901 3.038560e-04\n",
       "chr1:16814-16958  14.091000 -0.02871356    0.1480029 -0.1940068 8.461706e-01\n",
       "chr1:17185-17380  12.078361 -0.22724870    0.1436957 -1.5814574 1.137735e-01\n",
       "chr1:18209-18770   7.121041  0.16081936    0.2296818  0.7001834 4.838128e-01\n",
       "                 padj        Gene    annotation      \n",
       "chr1:9997-10674  0.000690813 DDX11L1 Promoter (1-2kb)\n",
       "chr1:11194-11315 0.316372018 DDX11L1 Promoter (<=1kb)\n",
       "chr1:12764-15682 0.002013147 DDX11L1 Promoter (<=1kb)\n",
       "chr1:16814-16958 0.896341280 WASH7P  Promoter (<=1kb)\n",
       "chr1:17185-17380 0.203905728 WASH7P  Promoter (<=1kb)\n",
       "chr1:18209-18770 0.606414973 WASH7P  Promoter (<=1kb)"
      ]
     },
     "metadata": {},
     "output_type": "display_data"
    }
   ],
   "source": [
    "head(atac_df_test)"
   ]
  },
  {
   "cell_type": "code",
   "execution_count": 25,
   "id": "465b5fe3",
   "metadata": {},
   "outputs": [],
   "source": [
    "write.table(atac_df_test, \"/data/SCLCgenomics/rajesh/ATAC_scripts/ATAC_analysis/ATAC_batch_1_2_3_quantified_peaks/homer_analysis/differential_peak_results/DGE_parth_gene_annotation/rank3.pdx.cluster3.DEseq2_gene_mapped.tsv\", sep=\"\\t\", row.names=TRUE)\n"
   ]
  },
  {
   "cell_type": "code",
   "execution_count": null,
   "id": "d70721fe",
   "metadata": {},
   "outputs": [],
   "source": []
  }
 ],
 "metadata": {
  "kernelspec": {
   "display_name": "R/4.2",
   "language": "R",
   "name": "ir42"
  },
  "language_info": {
   "codemirror_mode": "r",
   "file_extension": ".r",
   "mimetype": "text/x-r-source",
   "name": "R",
   "pygments_lexer": "r",
   "version": "4.2.2"
  }
 },
 "nbformat": 4,
 "nbformat_minor": 5
}
